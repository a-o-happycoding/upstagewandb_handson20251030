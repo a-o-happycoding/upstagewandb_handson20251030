{
  "cells": [
    {
      "cell_type": "markdown",
      "metadata": {
        "id": "GH1x2SRRmHPD"
      },
      "source": [
        "# Google Colabを利用してますでしょうか？\n",
        "以下のコードを実行してください。\n",
        "- API_KEYを取得・書き換え\n",
        "- [Upstage API](https://console.upstage.ai/api-keys)\n",
        "- [WANDB API](https://wandb.ai/authorize)\n",
        "\n",
        "\n",
        "```sh\n",
        "# ===============================\n",
        "# 🔑 APIキーの設定\n",
        "# ===============================\n",
        "# https://console.upstage.ai/api-keys\n",
        "os.environ[\"UPSTAGE_API_KEY\"] = \"YOUR_API_KEY\"\n",
        "print(\"🔐 Upstage APIキーを設定しました\")\n",
        "\n",
        "# https://wandb.ai/authorize (https://docs.wandb.ai/ja/support/find_api_key/ に解説があります)\n",
        "os.environ[\"WANDB_API_KEY\"] = \"YOUR_API_KEY\"\n",
        "print(\"🔐 WANDB APIキーを設定しました\")\n",
        "```\n",
        "\n",
        "他の設定は入りません。"
      ]
    },
    {
      "cell_type": "code",
      "execution_count": 8,
      "metadata": {
        "colab": {
          "base_uri": "https://localhost:8080/"
        },
        "id": "EUTAqIkSmHPG",
        "outputId": "e5cb3824-0c4f-4159-e1ea-121ae3fa5078"
      },
      "outputs": [
        {
          "output_type": "stream",
          "name": "stdout",
          "text": [
            "Requirement already satisfied: jedi in /usr/local/lib/python3.12/dist-packages (0.19.2)\n",
            "Requirement already satisfied: parso<0.9.0,>=0.8.4 in /usr/local/lib/python3.12/dist-packages (from jedi) (0.8.5)\n",
            "📦 weave をインストール中...\n",
            "🔐 Upstage APIキーを設定しました\n",
            "🔐 WANDB APIキーを設定しました\n",
            "✅ 既にフォルダが存在するため、ダウンロードと解凍はスキップします。\n",
            "📂 展開結果の確認: /content/demo_imgs\n",
            "total 12\n",
            "drwxr-xr-x 2 root root 4096 Oct 13 13:12 check\n",
            "drwxr-xr-x 2 root root 4096 Oct 12 04:58 classification\n",
            "drwxr-xr-x 2 root root 4096 Oct 15 11:35 information_extraction\n"
          ]
        }
      ],
      "source": [
        "import os\n",
        "!pip install jedi\n",
        "\n",
        "# ===============================\n",
        "# 🧪 weaveのインストール\n",
        "# ===============================\n",
        "print(\"📦 weave をインストール中...\")\n",
        "!pip install -q weave==0.52.9\n",
        "\n",
        "# ===============================\n",
        "# 🔑 Upstage APIキーの設定\n",
        "# ===============================\n",
        "# https://console.upstage.ai/api-keys\n",
        "#os.environ[\"UPSTAGE_API_KEY\"] = \"YOUR_API_KEY\"\n",
        "os.environ[\"UPSTAGE_API_KEY\"] = \"up_rdnlsZvQe2G5Mu5H1X1WQPAYTrAua\"\n",
        "print(\"🔐 Upstage APIキーを設定しました\")\n",
        "\n",
        "# https://wandb.ai/authorize (https://docs.wandb.ai/ja/support/find_api_key/ に解説があります)\n",
        "#os.environ[\"WANDB_API_KEY\"] = \"YOUR_API_KEY\"\n",
        "os.environ[\"WANDB_API_KEY\"] = \"fcac63bbfd221097efa0571a8d9d33d805a28437\"\n",
        "print(\"🔐 WANDB APIキーを設定しました\")\n",
        "\n",
        "# ===============================\n",
        "# 📁 パス設定\n",
        "# ===============================\n",
        "ZIP_URL = \"https://github.com/nhandsome-new/fc_2025_upstage_handson/raw/main/prep_google_colab/demo_imgs.zip\"\n",
        "ZIP_FILE = \"demo_imgs.zip\"\n",
        "EXTRACT_DIR = \"/content/demo_imgs\"\n",
        "\n",
        "# ===============================\n",
        "# 📂 フォルダがあるかチェック\n",
        "# ===============================\n",
        "if not os.path.exists(EXTRACT_DIR):\n",
        "    print(\"📂 フォルダが存在しません。初回セットアップを開始します...\")\n",
        "\n",
        "    # 🧭 1) 既存のフォルダ・ZIPファイルを削除（存在しなくてもOK）\n",
        "    print(\"🧭 既存のフォルダ・ZIPファイルを削除中...\")\n",
        "    !rm -rf {EXTRACT_DIR} || true\n",
        "    !rm -f {ZIP_FILE} || true\n",
        "\n",
        "    # ⬇️ 2) wgetでZIPファイルをダウンロード\n",
        "    print(f\"⬇️ ZIPファイルをダウンロード中: {ZIP_URL}\")\n",
        "    !wget -q -O {ZIP_FILE} {ZIP_URL}\n",
        "    print(\"✅ ダウンロード完了\")\n",
        "\n",
        "    # 📦 3) ZIPファイルを解凍\n",
        "    print(\"📦 ZIPファイルを解凍中...\")\n",
        "    !unzip -q {ZIP_FILE} -d .\n",
        "    print(\"✅ 解凍完了\")\n",
        "\n",
        "    # 🧼 4) ZIPファイルを削除\n",
        "    print(\"🧼 ZIPファイルを削除中...\")\n",
        "    !rm {ZIP_FILE}\n",
        "    print(\"✅ ZIPファイル削除完了\")\n",
        "\n",
        "else:\n",
        "    print(\"✅ 既にフォルダが存在するため、ダウンロードと解凍はスキップします。\")\n",
        "\n",
        "# ===============================\n",
        "# 📂 展開結果の確認\n",
        "# ===============================\n",
        "print(f\"📂 展開結果の確認: {EXTRACT_DIR}\")\n",
        "!ls -l {EXTRACT_DIR}\n"
      ]
    },
    {
      "cell_type": "markdown",
      "metadata": {
        "id": "o6qvpDXHmHPH"
      },
      "source": [
        "# 📄 Document AI + LLM を活用したドキュメント業務の効率化\n",
        "\n",
        "---\n",
        "\n",
        "## 🪜 ① なぜ Document AI なのか？\n",
        "\n",
        "### 🏢 多くの企業で「紙」「PDF」「スキャン画像」が業務の中核に存在\n",
        "- 契約書・請求書・領収書・申請書 など\n",
        "- デジタル化されていない文書が多数残っている\n",
        "\n",
        "### ⏳ 業務効率化・自動化の「ボトルネック」になりやすい\n",
        "- システム連携しにくい\n",
        "- 情報検索・転記・集計などに人手が必要\n",
        "- 自動化・高度化の足かせになるケースが多い\n",
        "\n",
        "### 📈 最近増えている「ドキュメントの要約・抽出・分類」サービス\n",
        "- AIによって文書を構造化する技術が進歩\n",
        "- 既存システムと連携することで業務効率が飛躍的に向上\n",
        "- 例：Document AI × LLM の組み合わせによる高度な処理\n",
        "\n",
        "---\n",
        "\n",
        "## 🚀 ② 活用のメリット\n",
        "\n",
        "| 項目                   | 内容                                                                 |\n",
        "|------------------------|----------------------------------------------------------------------|\n",
        "| 🧑‍💼 作業者の負担軽減       | 手入力・目視確認などの単純作業を削減                                 |\n",
        "| ⚡ 処理の高速化         | 数秒〜数分で情報抽出・整理が完了                                     |\n",
        "| 🧭 ミスの防止           | 人手による確認・転記ミスを減らし、品質を安定化                         |\n",
        "| 🔗 業務連携の自動化     | データ化することで他のシステムと連携しやすくなり、ワークフロー全体を自動化可能 |\n",
        "\n",
        "---\n",
        "\n",
        "## 🧪 ③ 活用例\n",
        "\n",
        "### 🧠 Upstage Document Parse / LLM を活用した情報抽出デモ\n",
        "- パートナー企業が開発した情報抽出DEMO\n",
        "- 紙・PDF・画像形式の文書から必要な項目を自動で抽出\n",
        "- 出力結果を構造化してシステム連携することで大幅な効率化を実現\n",
        "\n",
        "![ie_demo](https://github.com/nhandsome-new/fc_2025_upstage_handson/blob/main/docs_imgs/Information_Extraction_DEMO.png?raw=1)\n"
      ]
    },
    {
      "cell_type": "markdown",
      "metadata": {
        "id": "4VN6alynmHPI"
      },
      "source": [
        "# 🧠 ハンズオンの目的と概要\n",
        "\n",
        "---\n",
        "\n",
        "## 🪜 ① 目的\n",
        "\n",
        "### 📄 Document AI と LLM の役割を理解\n",
        "- **Document AI**：Upstage Document Parse  \n",
        "  → 文書の構造化とテキスト抽出  \n",
        "- **LLM**：Upstage Syn Pro\n",
        "  → 抽出データの要約・質問応答・分類\n",
        "\n",
        "### ⚙️ Document AI と LLM の活用方法を理解\n",
        "- 実用シナリオの紹介\n",
        "- 精度向上のための実践的 Tip\n",
        "\n",
        "### 🧪 Weave の活用方法を理解\n",
        "- パイプラインの **Trace（処理の可視化）**\n",
        "- モデル結果の **評価と改善**\n",
        "\n",
        "---\n",
        "\n",
        "## 🪜 ② ハンズオンの流れ\n",
        "\n",
        "### 🧭 Step 1：環境設定\n",
        "- Upstage_HandsOn_Test.ipynb\n",
        "- Upstage API / Weave の設定\n",
        "- 必要な Function（Document Parse / LLM 生成 など）の定義\n",
        "\n",
        "### 📄 Step 2：Document Parse の動作確認\n",
        "- Upstage_HandsOn_1.ipynb\n",
        "- **入力**：スマホ撮影した仮のドキュメント  \n",
        "- **出力**：HTML  \n",
        "- **目的**：構造化とテキスト抽出の仕組みを理解  \n",
        "- Weave で処理の Trace を確認\n",
        "\n",
        "### 🧠 Step 3：Syn（LLM）の動作確認\n",
        "- Upstage_HandsOn_1.ipynb\n",
        "- **入力**：Parse の結果（HTML）＋ PROMPT  \n",
        "- **出力**：要約結果  \n",
        "- **目的**：構造化データからの要約フローを体験  \n",
        "- Weave で処理の Trace を確認\n",
        "\n",
        "### 🧪 Step 4：Document Parse + Solar の活用例\n",
        "- Upstage_HandsOn_1.ipynb\n",
        "- 情報の抽出（例：事故報告書）\n",
        "- 質問応答\n",
        "- ドキュメント分類（例：保険請求書）\n",
        "\n",
        "### 🏢 Step 5：実業務での情報抽出活用方法\n",
        "- Upstage_HandsOn_2.ipynb\n",
        "- 保険会社の事故状況報告書を題材に実施\n",
        "- 精度向上・実活用のための Tip\n",
        "  - 抽出プロセスの段階化\n",
        "  - 必要情報の明確化\n",
        "  - 出力形式の統一化\n",
        "\n",
        "### ☕ ：休憩・ディスカッション\n",
        "\n",
        "### 📝 Step 6：情報抽出の結果確認\n",
        "- Upstage_HandsOn_2_All_Results.ipynb\n",
        "- 異なるテンプレートでの情報抽出結果を比較\n",
        "- 出力の一貫性と汎用性を確認\n",
        "\n",
        "### 📊 Step 7：Weave を用いた評価\n",
        "- Upstage_HandsOn_3.ipynb\n",
        "- Weave の Evaluate 機能を活用\n",
        "- 抽出結果の可視化と差分の確認\n",
        "- 評価手法の理解と重要性の把握\n",
        "\n",
        "### 🧪 Step 8：サンプルデータを用いた自由試し・結果発表\n",
        "- 参加者ごとに自由にプロンプトを改善\n",
        "- 評価スコアの向上を目指す\n",
        "- 独自のモデル（プロンプト or ロジック）の構築\n",
        "- 結果を共有し、アプローチの違いを議論\n",
        "\n",
        "### ☕ ：休憩・ディスカッション\n",
        "\n",
        "### 💬 Step 9：金融系の事例紹介・ディスカッション\n",
        "- 実務での Document AI 活用事例の紹介（金融・保険分野）\n",
        "- 情報抽出・分類・自動化の実例共有\n",
        "- 実ビジネスでの活用可能性についてディスカッション\n",
        "- 今後の展開・応用のアイデアブレスト"
      ]
    },
    {
      "cell_type": "markdown",
      "metadata": {
        "id": "yS9ZCPBCmHPJ"
      },
      "source": [
        "# 🪜 ステップ①：基本設定\n",
        "\n",
        "**ハンズオン開始前に以下を実行してください:**\n",
        "\n",
        "- [TEST CODE](./Upstage_HandsOn_Test.ipynb)\n",
        "- Upstage API Key\n",
        "- Weave ライブラリーの設置"
      ]
    },
    {
      "cell_type": "code",
      "execution_count": 9,
      "metadata": {
        "colab": {
          "base_uri": "https://localhost:8080/"
        },
        "id": "sc3RwQntmHPK",
        "outputId": "41bcade0-002a-44b5-a177-e0a74564bcda"
      },
      "outputs": [
        {
          "output_type": "stream",
          "name": "stdout",
          "text": [
            "📚 ライブラリ準備完了!\n",
            "🎯 Weaveが初期化されました - すべての処理が自動追跡されます\n",
            "🔑 UPSTAGE_API_KEY: 設定済み\n"
          ]
        }
      ],
      "source": [
        "# ======================================================\n",
        "# 📦 1. 必要なライブラリのインポート\n",
        "# ======================================================\n",
        "import weave\n",
        "from weave import Content\n",
        "import os\n",
        "import requests\n",
        "from datetime import datetime\n",
        "from IPython.display import display, Image, HTML\n",
        "from typing import Annotated\n",
        "\n",
        "# ======================================================\n",
        "# 🚀 2. Weaveの初期化\n",
        "# ======================================================\n",
        "weave.init(\"UPSTAGE-HANDSON-STEP1\")\n",
        "\n",
        "# ======================================================\n",
        "# 🔐 3. APIキーの設定\n",
        "# https://console.upstage.ai/api-keys\n",
        "# ======================================================\n",
        "# os.environ[\"UPSTAGE_API_KEY\"] = 'YOUR_API_KEY' # ← 実際のキーをここに入れる\n",
        "\n",
        "# ======================================================\n",
        "# ✅ 4. 初期化確認\n",
        "# ======================================================\n",
        "print(\"📚 ライブラリ準備完了!\")\n",
        "print(\"🎯 Weaveが初期化されました - すべての処理が自動追跡されます\")\n",
        "print(f\"🔑 UPSTAGE_API_KEY: {'設定済み' if 'UPSTAGE_API_KEY' in os.environ and os.environ['UPSTAGE_API_KEY'] != 'YOUR_API_KEY' else '❌未設定'}\")"
      ]
    },
    {
      "cell_type": "markdown",
      "metadata": {
        "id": "ARBuNKdYmHPK"
      },
      "source": [
        "# 🪜 ステップ①：基本設定\n",
        "\n",
        "### 必要なFunctionの定義\n",
        "- **Upstage Document Parse**\n",
        "- **Upstage Syn Pro(LLM)**\n",
        "\n",
        "### 参考\n",
        "- 「weave.op」デコレータ\n",
        "  - wandbのウェブ上、関数の入力・出力などをTraceするため"
      ]
    },
    {
      "cell_type": "code",
      "execution_count": 10,
      "metadata": {
        "id": "1DqiZu-FmHPL"
      },
      "outputs": [],
      "source": [
        "# ======================================================\n",
        "# 🧾 1. Document Parse 関数\n",
        "# ------------------------------------------------------\n",
        "# - 画像ファイル（ドキュメント）を Upstage Document AI に送信\n",
        "# - HTML形式に変換して返却\n",
        "# ======================================================\n",
        "\n",
        "@weave.op()\n",
        "def upstage_document_parse(file_path: Annotated[str, Content]) -> str:\n",
        "    \"\"\"\n",
        "    📄 文書をHTMLに変換する関数\n",
        "    - Upstage Document AI API を利用\n",
        "    - ファイルを送信して OCR + HTML 化\n",
        "    \"\"\"\n",
        "\n",
        "    # Step 1. APIキーを環境変数から取得\n",
        "    api_key = os.environ.get(\"UPSTAGE_API_KEY\")\n",
        "    #api_key = os.environ.get(\"up_rdnlsZvQe2G5Mu5H1X1WQPAYTrAua\")\n",
        "    if not api_key:\n",
        "        raise ValueError(\"❌ UPSTAGE_API_KEY が環境変数に設定されていません。\")\n",
        "\n",
        "    # Step 2. 画像ファイルの読み込み\n",
        "    with open(file_path, 'rb') as file:\n",
        "        files = {\n",
        "            \"document\": (os.path.basename(file_path), file, \"image/jpeg\")\n",
        "        }\n",
        "        data = {\n",
        "            \"model\": \"document-parse-nightly\",\n",
        "            \"ocr\": \"auto\",\n",
        "            \"output_formats\": \"html\"\n",
        "        }\n",
        "\n",
        "        # Step 3. APIリクエスト送信\n",
        "        response = requests.post(\n",
        "            \"https://api.upstage.ai/v1/document-ai/document-parse\",\n",
        "            headers={\"Authorization\": f\"Bearer {api_key}\"},\n",
        "            files=files,\n",
        "            data=data\n",
        "        )\n",
        "\n",
        "    # Step 4. 結果をJSONで取得してHTML部分を返す\n",
        "    result = response.json()\n",
        "    return result.get(\"content\", {}).get(\"html\", \"\")\n",
        "\n",
        "\n",
        "# ======================================================\n",
        "# ☀️ 2. LLM 応答生成関数\n",
        "# ------------------------------------------------------\n",
        "# - Syn Pro モデルを利用\n",
        "# - メッセージリストを与えると応答テキストを返す\n",
        "# ======================================================\n",
        "@weave.op()\n",
        "def upstage_solar_pro2(messages: list) -> str:\n",
        "    \"\"\"\n",
        "    🧠 LLMで応答を生成する関数\n",
        "    - Syn Pro モデルを使用\n",
        "    - messages には system / user ロールのプロンプトを含む\n",
        "    \"\"\"\n",
        "    # Step 1. APIキーを環境変数から取得\n",
        "    api_key = os.environ.get(\"UPSTAGE_API_KEY\")\n",
        "    #api_key = os.environ.get(\"up_rdnlsZvQe2G5Mu5H1X1WQPAYTrAua\")\n",
        "    if not api_key:\n",
        "        raise ValueError(\"❌ UPSTAGE_API_KEY が環境変数に設定されていません。\")\n",
        "\n",
        "    # Step 2. リクエストペイロードの構築\n",
        "    payload = {\n",
        "        \"model\": \"syn-pro\", # \"solar-pro2\",\n",
        "        \"messages\": messages,\n",
        "        \"temperature\": 0.7,\n",
        "        \"max_tokens\": 16384,\n",
        "        # \"reasoning_effort\": \"high\",\n",
        "    }\n",
        "\n",
        "    # Step 3. APIリクエスト送信\n",
        "    response = requests.post(\n",
        "        \"https://api.upstage.ai/v1/chat/completions\",\n",
        "        headers={\n",
        "            \"Authorization\": f\"Bearer {api_key}\",\n",
        "            \"Content-Type\": \"application/json\"\n",
        "        },\n",
        "        json=payload\n",
        "    )\n",
        "\n",
        "    # Step 4. 応答メッセージ部分のみを抽出して返す\n",
        "    result = response.json()\n",
        "    return result[\"choices\"][0][\"message\"][\"content\"]"
      ]
    },
    {
      "cell_type": "markdown",
      "metadata": {
        "id": "XB8dRNe0mHPM"
      },
      "source": [
        "![dp_solar](https://github.com/nhandsome-new/fc_2025_upstage_handson/blob/main/docs_imgs/DP_Solar_Flow_1.png?raw=1)\n",
        "\n",
        "---\n",
        "\n",
        "![demo](https://github.com/nhandsome-new/fc_2025_upstage_handson/blob/main/demo_imgs/check/TEST_IMAGE.jpeg?raw=1)\n",
        "\n",
        "\n",
        "## 🧾 ステップ②：Document Parseの動作確認\n",
        "- **役割**：画像／PDF → テキスト＆構造化\n",
        "- **入力例**：\n",
        "  - スマホで撮影したドキュメント\n",
        "- **出力例**：\n",
        "  - HTML形式\n",
        "  - ドキュメント内テーブルも構造化される\n",
        "\n",
        "📌 *テキスト抽出＋構造化の結果を可視化し、どんなデータが取れるか観察*"
      ]
    },
    {
      "cell_type": "code",
      "execution_count": 11,
      "metadata": {
        "colab": {
          "base_uri": "https://localhost:8080/",
          "height": 1000
        },
        "id": "ZYicoK_PmHPM",
        "outputId": "c2d55346-2012-4d49-e427-66ec95ee2e93"
      },
      "outputs": [
        {
          "output_type": "stream",
          "name": "stderr",
          "text": [
            "\u001b[36m\u001b[1mweave\u001b[0m: 🍩 https://wandb.ai/otani-aya-mitsui-knowledge-industryco-/UPSTAGE-HANDSON-STEP1/r/call/019a32cc-7778-7c5a-9a01-26d9f96cfed8\n"
          ]
        },
        {
          "output_type": "stream",
          "name": "stdout",
          "text": [
            "\n",
            "📋 Document Parse結果 (最初の300文字):\n",
            "<p id='0' data-category='paragraph' style='font-size:22px'>清掃業務見積金額算定資料<br>(建物清掃業者向け)</p>\n",
            "<br><h1 id='1' style='font-size:20px'>発行日:令和7年8月15日</h1>\n",
            "<h1 id='2' style='font-size:18px'>本資料は、 清掃業務の見積金額を算定するための基準を示したものです。 建物の規模、 機材の使用、 階数、 作業日などによ<br>り、 価格が変動します。</h1>\n",
            "<h1 id='3' style='font-size:20px'>【基本\n",
            "# 🖼 HTML解析結果のプレビュー表示\n"
          ]
        },
        {
          "output_type": "display_data",
          "data": {
            "text/plain": [
              "<IPython.core.display.HTML object>"
            ],
            "text/html": [
              "<p id='0' data-category='paragraph' style='font-size:22px'>清掃業務見積金額算定資料<br>(建物清掃業者向け)</p>\n",
              "<br><h1 id='1' style='font-size:20px'>発行日:令和7年8月15日</h1>\n",
              "<h1 id='2' style='font-size:18px'>本資料は、 清掃業務の見積金額を算定するための基準を示したものです。 建物の規模、 機材の使用、 階数、 作業日などによ<br>り、 価格が変動します。</h1>\n",
              "<h1 id='3' style='font-size:20px'>【基本料金の設定基準】</h1>\n",
              "<br><p id='4' data-category='paragraph' style='font-size:18px'>【基本料金の考え方】 清掃対象建物の面積に応じた基本料金は以下の通りです。 なお、 現場状況により若干の変動が発生す<br>る可能性があります。</p>\n",
              "<table id='5' style='font-size:14px'><thead><tr><td>広さ</td><td>基本料金 (税抜)</td><td>基本料金 (税込)</td></tr></thead><tbody><tr><td>~100m2</td><td>8,000円</td><td>8,800円</td></tr><tr><td>101~500m2</td><td>12,000円</td><td>13,200円</td></tr><tr><td>501~1000m2</td><td>18,000円</td><td>19,800円</td></tr><tr><td>1001~2000m2</td><td>25,000円</td><td>27,500円</td></tr><tr><td>2001m2~</td><td>35,000円</td><td>38,500円</td></tr></tbody></table>\n",
              "<br><p id='6' data-category='paragraph' style='font-size:18px'>※面積の算出に際しては、 共用部・バックヤード・天井高に留意する必要があります。</p>\n",
              "<br><p id='7' data-category='paragraph' style='font-size:20px'>【注意】 基本料金には定期訪問費や廃棄物処理費は含まれておりません。</p>\n",
              "<h1 id='8' style='font-size:18px'>【使用機材と特殊対応】</h1>\n",
              "<br><p id='9' data-category='paragraph' style='font-size:18px'>【機材選定について】 使用機材の種類によって作業効率や安全性が大きく異なるため、 機材の選定は非常に重要です。 特に<br>高所作業では安全装備の確保が必須です。</p>\n",
              "<table id='10' style='font-size:14px'><thead><tr><td>条件</td><td>加算額 (税抜)</td><td>加算額 (税込)</td></tr></thead><tbody><tr><td>機材なし</td><td>0円</td><td>0円</td></tr><tr><td>機材あり (標準)</td><td>5,000円</td><td>5,500円</td></tr><tr><td>機材あり (大型)</td><td>8,000円</td><td>8,800円</td></tr><tr><td>機材あり (特殊)</td><td>12,000円</td><td>13,200円</td></tr><tr><td>高所作業 (3m以上~6m未満)</td><td>4,000円</td><td>4,400円</td></tr><tr><td>高所作業 (6m以上)</td><td>8,000円</td><td>8,800円</td></tr><tr><td>特殊洗剤・薬品使用 (一般)</td><td>3,000円</td><td>3,300円</td></tr><tr><td>特殊洗剤・薬品使用 (業務用)</td><td>6,000円</td><td>6,600円</td></tr><tr><td>アスベスト除去対応</td><td>15,000円</td><td>16,500円</td></tr></tbody></table>\n",
              "<br><p id='11' data-category='paragraph' style='font-size:18px'>※安全帯・脚立等の安全装備費用は別途請求となる場合があります。</p>\n",
              "<p id='12' data-category='paragraph' style='font-size:18px'>【重要】 特殊薬剤は発注時にMSDS (製品安全データシート) 提出が必要です。</p>\n",
              "<p id='13' data-category='paragraph' style='font-size:16px'>【FAQ】 Q: 大型施設の場合、 何を優先して確認すべきですか?<br>A: 電源・水道の有無、 作業導線、 騒音制限時間帯などが重要です。</p>\n",
              "<p id='14' data-category='paragraph' style='font-size:18px'>【アクセス条件の確認】 エレベーターの有無による運搬負荷の差異は、 作業員の人員配置にも影響を与えます。 建物構造の<br>詳細をご確認のうえ見積もりに反映してください。</p>\n",
              "<br><table id='15' style='font-size:14px'><thead><tr><td>階数/条件</td><td>加算額 (税抜)</td><td>加算額 (税込)</td></tr></thead><tbody><tr><td>1階</td><td>0円</td><td>0円</td></tr><tr><td>2~5階 (エレベーターあり)</td><td>1,000円</td><td>1,100円</td></tr><tr><td>2~5階 (エレベーターなし)</td><td>3,000円</td><td>3,300円</td></tr><tr><td>6階以上 (エレベーターあり)</td><td>2,000円</td><td>2,200円</td></tr><tr><td>6階以上 (エレベーターなし)</td><td>5,000円</td><td>5,500円</td></tr></tbody></table>\n",
              "<p id='16' data-category='paragraph' style='font-size:14px'>【作業日・時間帯による注意点】 深夜や祝日などの作業は人員確保や準備コストが高いため、 通常料金に加算が発生します</p>\n",
              "<h1 id='17' style='font-size:14px'>。</h1>\n",
              "<table id='18' style='font-size:14px'><thead><tr><td>曜日</td><td>加算額 (税抜)</td><td>加算額 (税込)</td></tr></thead><tbody><tr><td>平日</td><td>0円</td><td>0円</td></tr><tr><td>土曜日</td><td>2,000円</td><td>2,200円</td></tr><tr><td>日曜・祝日</td><td>3,000円</td><td>3,300円</td></tr><tr><td>早朝 (7時以前) ・夜間 (20時以降)</td><td>5,000円</td><td>5,500円</td></tr></tbody></table>\n",
              "<p id='19' data-category='paragraph' style='font-size:16px'>【背景】 近年、 建物の構造多様化および環境負荷への配慮から、 清掃作業の標準化が困難になってきております。 従来型の<br>一律料金設定では現場との乖離が顕著になり、 柔軟な加算体系の整備が求められています。</p>\n",
              "<p id='20' data-category='paragraph' style='font-size:16px'>【参考情報】 業界内では、 500m2以下の小規模施設においても作業内容の複雑化が進んでおり、 時間あたり単価ではなく面<br>積加重型の見積もり形式が主流となりつつあります。</p>\n",
              "<p id='21' data-category='paragraph' style='font-size:14px'>【契約頻度による割引】 以下は、 契約頻度と期間に応じた割引率の一覧です。 長期的な定期契約はコスト面での利点があり<br>、 おすすめされます。</p>\n",
              "<table id='22' style='font-size:14px'><thead><tr><td>頻度/期間</td><td>1ヶ月契約</td><td>6ヶ月契約</td><td>12ヶ月契約</td></tr></thead><tbody><tr><td>週1回</td><td>0%</td><td>3%</td><td>5%</td></tr><tr><td>週2回</td><td>0%</td><td>5%</td><td>8%</td></tr><tr><td>週3回以上</td><td>2%</td><td>7%</td><td>10%</td></tr></tbody></table>\n",
              "<br><p id='23' data-category='paragraph' style='font-size:18px'>【業務事例】 ある公共施設では、 建物面積1,800m2に対して3人体制・高所対応・土曜深夜作業で合計見積金額は約75,000<br>円でした。</p>\n",
              "<p id='24' data-category='paragraph' style='font-size:20px'>【特記事項】 なお、 作業実施における電源·水道の使用可否も事前に確認が必要です。 これらのリソースが未提供の場合、<br>別途費用が発生する可能性があります。</p>\n",
              "<p id='25' data-category='paragraph' style='font-size:22px'>【契約種別の違い】 単発依頼や急ぎ対応には追加費用が発生します。 予定に余裕を持ってご依頼いただくことでコストを抑<br>えることが可能です。</p>\n",
              "<table id='26' style='font-size:16px'><thead></thead><tbody><tr><td>契約種別</td><td>追加費用 (税抜)</td><td>追加費用 (税込)</td></tr><tr><td>定期契約</td><td>0円</td><td>0円</td></tr><tr><td>単発契約 (1回のみ)</td><td>10,000円</td><td>11,000円</td></tr><tr><td>急ぎ依頼 (24時間以内対応)</td><td>15,000円</td><td>16,500円</td></tr><tr><td>深夜依頼 (22時以降)</td><td>8,000円</td><td>8,800円</td></tr></tbody></table>\n",
              "<br><p id='27' data-category='paragraph' style='font-size:20px'>【警告】 大型商業施設や複合ビルにおいては、 日中作業が制限される場合が多く、 夜間割増や保安要員の追加が必要となる<br>ケースがあります。</p>\n",
              "<p id='28' data-category='paragraph' style='font-size:20px'>【提案】 予算と現場条件に応じて、 定期契約による費用安定化もご検討ください。</p>"
            ]
          },
          "metadata": {}
        }
      ],
      "source": [
        "# ======================================================\n",
        "# 📁 1. 学習・テスト用のサンプル文書パスを設定\n",
        "# ======================================================\n",
        "SAMPLE_DOCUMENTS = [\n",
        "    \"./demo_imgs/check/TEST_IMAGE.jpeg\",\n",
        "]\n",
        "sample_file = SAMPLE_DOCUMENTS[0]\n",
        "\n",
        "# ======================================================\n",
        "# 📄 2. Document Parse 実行\n",
        "# ------------------------------------------------------\n",
        "# - Upstage Document AI API に送信し、HTML 形式に変換\n",
        "# - 結果の全体を表示すると長くなる可能性があるため、\n",
        "#   ここでは先頭 300 文字だけをプレビュー表示\n",
        "# ======================================================\n",
        "print(\"\\n📋 Document Parse結果 (最初の300文字):\")\n",
        "html_result = upstage_document_parse(sample_file)\n",
        "print(html_result[:300])\n",
        "\n",
        "# ======================================================\n",
        "# 🖼 3. HTML解析結果のプレビュー表示\n",
        "# ======================================================\n",
        "print(\"# 🖼 HTML解析結果のプレビュー表示\")\n",
        "display(HTML(html_result))"
      ]
    },
    {
      "cell_type": "markdown",
      "metadata": {
        "id": "IDp8NGvRmHPN"
      },
      "source": [
        "## 🧭 Weave の結果確認\n",
        "\n",
        "### 📝 背景\n",
        "- コードに `@weave.op` のデコレータを付けるだけで、  \n",
        "  各処理のログ・中間結果を自動でトレースできる。\n",
        "- 通常、ログの実装やファイル管理を行う場合は\n",
        "  - ログ出力処理の追加\n",
        "  - ファイル・ディレクトリの管理\n",
        "  - 再実行時のトレース確認  \n",
        "  …といった工数がかかる。\n",
        "\n",
        "### 🌐 Weave でできること\n",
        "- Web UI 上で以下の情報を簡単に確認可能：\n",
        "  - 処理ごとの **入力・出力**  \n",
        "  - 実行履歴・トレース  \n",
        "- コードの修正を最小限に抑えつつ、実験・検証をスムーズに進められる。\n",
        "\n",
        "### ✅ まとめ\n",
        "- `@weave.op` を活用することで、ログ管理の工数を削減できる  \n",
        "- 中間処理の挙動をブラウザ上で確認でき、開発スピードが向上  "
      ]
    },
    {
      "cell_type": "markdown",
      "metadata": {
        "id": "me1V0PAvmHPN"
      },
      "source": [
        "![dp_solar](https://github.com/nhandsome-new/fc_2025_upstage_handson/blob/main/docs_imgs/DP_Solar_Flow_2.png?raw=1)\n",
        "## 📝 ステップ③：Solarの動作確認（要約）\n",
        "- **役割**：構造化データをベースに、テキスト情報を抽出・修正・生成\n",
        "- **入力**：\n",
        "  - PROMPT：ユーザーの指示\n",
        "  - Document ParseのHTML出力\n",
        "- **出力**：\n",
        "  - 要約結果（自然言語）"
      ]
    },
    {
      "cell_type": "code",
      "execution_count": 12,
      "metadata": {
        "colab": {
          "base_uri": "https://localhost:8080/"
        },
        "id": "xhF8H0pGmHPN",
        "outputId": "ab8d9628-ff63-402f-b66d-b542a65f25e2"
      },
      "outputs": [
        {
          "output_type": "stream",
          "name": "stdout",
          "text": [
            "\n",
            "🧠 LLMの答え:\n"
          ]
        },
        {
          "output_type": "stream",
          "name": "stderr",
          "text": [
            "\u001b[36m\u001b[1mweave\u001b[0m: 🍩 https://wandb.ai/otani-aya-mitsui-knowledge-industryco-/UPSTAGE-HANDSON-STEP1/r/call/019a32cc-971d-73ad-aafb-c1e0192e2e91\n"
          ]
        },
        {
          "output_type": "stream",
          "name": "stdout",
          "text": [
            "このドキュメントは、建物清掃業務の見積金額算定基準を示した資料です。建物の面積、機材使用、階数、作業日時などによる基本料金と加算額、割引条件、注意事項を詳細に定めた業者向けのガイドラインです。  \n",
            "\n",
            "（1文要約）  \n",
            "建物清掃業務の見積金額を算定するための基準と加算条件をまとめた業者向け資料です。\n"
          ]
        }
      ],
      "source": [
        "# ======================================================\n",
        "# 📝 Step ① LLMに渡すプロンプトを定義\n",
        "# ------------------------------------------------------\n",
        "# - 文書全体をざっくりと要約して「どんな種類のドキュメントか」\n",
        "#   を LLM に説明させるためのプロンプト\n",
        "# ======================================================\n",
        "PROMPT = \"\"\"\n",
        "文書内容を見て、どんなドキュメントかを1-2文で簡潔に説明してください。\n",
        "\"\"\"\n",
        "\n",
        "# ======================================================\n",
        "# 🧠 2. LLMに送信するメッセージの準備\n",
        "# ------------------------------------------------------\n",
        "# - userロールで HTML内容とプロンプトを一緒に渡す\n",
        "# - HTMLは事前に upstage_document_parse() で取得済み\n",
        "# ======================================================\n",
        "explanation_messages = [\n",
        "    {\n",
        "        \"role\": \"system\",\n",
        "        \"content\": \"あなたは、HTML形式のドキュメント構造を理解し、ユーザーの指示に従ってタスクを実行するアシスタントです。必ず日本語で答えてください。\"\n",
        "    },\n",
        "    {\n",
        "        \"role\": \"user\",\n",
        "        \"content\": f\"# ドキュメント内容(HTML):\\n{html_result}\\n\\n# プロンプト指示:\\n{PROMPT}\"\n",
        "    }\n",
        "]\n",
        "\n",
        "# ======================================================\n",
        "# ☀️ 3. Syn Pro による LLM 推論の実行\n",
        "# ======================================================\n",
        "print(\"\\n🧠 LLMの答え:\")\n",
        "result = upstage_solar_pro2(explanation_messages)\n",
        "print(result)\n"
      ]
    },
    {
      "cell_type": "markdown",
      "metadata": {
        "id": "WjBBfsXZmHPN"
      },
      "source": [
        "## 🧠 ステップ④：活用例\n",
        "\n",
        "要約以外にも、**Document Parse + Syn（LLM）** を組み合わせることで  \n",
        "実際の業務現場で幅広い作業を自動化・効率化することが可能。\n",
        "\n",
        "![img](https://github.com/nhandsome-new/fc_2025_upstage_handson/blob/main/docs_imgs/DP_Solar_Flow_3.png?raw=1)\n",
        "\n",
        "---\n",
        "\n",
        "### 🧾 1. 情報抽出\n",
        "- **入力例**：建物清掃業務の見積金額算定基準  \n",
        "- **目的**：指定された情報（例：清掃対象面積）のみを抽出  \n",
        "- **プロンプト例**：\n",
        "```yaml\n",
        "清掃対象の面積に関する情報のみ抽出してください。\n"
      ]
    },
    {
      "cell_type": "code",
      "execution_count": 13,
      "metadata": {
        "colab": {
          "base_uri": "https://localhost:8080/"
        },
        "id": "EP3ZHtd9mHPO",
        "outputId": "7a89ddd4-56dd-460e-dee7-d9e8f80e0824"
      },
      "outputs": [
        {
          "output_type": "stream",
          "name": "stderr",
          "text": [
            "\u001b[36m\u001b[1mweave\u001b[0m: 🍩 https://wandb.ai/otani-aya-mitsui-knowledge-industryco-/UPSTAGE-HANDSON-STEP1/r/call/019a32cc-a0f1-7abd-91cb-7894560e7143\n"
          ]
        },
        {
          "output_type": "stream",
          "name": "stdout",
          "text": [
            "\n",
            "🧠 LLMの答え:\n",
            "清掃対象の面積に関する情報（基本料金）は以下の通りです：\n",
            "\n",
            "| 広さ(m²)       | 基本料金 (税抜) | 基本料金 (税込) |\n",
            "|----------------|----------------|----------------|\n",
            "| ~100           | 8,000円        | 8,800円        |\n",
            "| 101~500        | 12,000円       | 13,200円       |\n",
            "| 501~1000       | 18,000円       | 19,800円       |\n",
            "| 1001~2000      | 25,000円       | 27,500円       |\n",
            "| 2001~          | 35,000円       | 38,500円       |\n",
            "\n",
            "※面積算出時の注意点: 共用部・バックヤード・天井高を考慮する必要があります。  \n",
            "※基本料金には定期訪問費・廃棄物処理費は含まれません。  \n",
            "\n",
            "（参考: 表5の内容を抽出）\n"
          ]
        }
      ],
      "source": [
        "# ======================================================\n",
        "# 📝 1. LLMに渡すプロンプトを定義\n",
        "# ======================================================\n",
        "PROMPT = \"\"\"\n",
        "文書内容を見て、清掃対象の面積に関する情報（値段）のみ抽出してください。\n",
        "\"\"\"\n",
        "\n",
        "# ======================================================\n",
        "# 🧠 2. LLMに送信するメッセージを準備\n",
        "# ======================================================\n",
        "explanation_messages = [\n",
        "    {\n",
        "        \"role\": \"system\",\n",
        "        \"content\": \"あなたは、HTML形式のドキュメント構造を理解し、ユーザーのプロンプトに従ってタスクを実行するアシスタントです。必ず日本語で答えてください。\"\n",
        "    },\n",
        "    {\n",
        "        \"role\": \"user\",\n",
        "        \"content\": f\"# ドキュメント内容(HTML):\\n{html_result}\\n\\n# プロンプト指示:\\n{PROMPT}\"\n",
        "    }\n",
        "]\n",
        "\n",
        "# ======================================================\n",
        "# ☀️ 3. Syn Pro による LLM 推論の実行\n",
        "# ======================================================\n",
        "print(\"\\n🧠 LLMの答え:\")\n",
        "result = upstage_solar_pro2(explanation_messages)\n",
        "print(result)\n"
      ]
    },
    {
      "cell_type": "markdown",
      "metadata": {
        "id": "9tvH09uSmHPO"
      },
      "source": [
        "### ❓ 2. 質問応答\n",
        "- **入力例**：建物清掃業務の見積金額算定基準  \n",
        "- **目的**：条件をもとに概算金額を問い合わせ + コスト削減案を検討  \n",
        "- **プロンプト例**：\n",
        "```yaml\n",
        "面積（450m2）、素材あり（大型）、高所作業（6m以上）、1階、日曜の場合の概算を教えてください。\n",
        "より安価に作業依頼をする方法はありますか？\n",
        "```"
      ]
    },
    {
      "cell_type": "code",
      "execution_count": 14,
      "metadata": {
        "colab": {
          "base_uri": "https://localhost:8080/"
        },
        "id": "vB5DBWUUmHPO",
        "outputId": "7c10ae8a-adb5-4878-96b5-fc9012b56834"
      },
      "outputs": [
        {
          "output_type": "stream",
          "name": "stderr",
          "text": [
            "\u001b[36m\u001b[1mweave\u001b[0m: 🍩 https://wandb.ai/otani-aya-mitsui-knowledge-industryco-/UPSTAGE-HANDSON-STEP1/r/call/019a32cc-b3f1-77fe-a546-1bc34b58350a\n"
          ]
        },
        {
          "output_type": "stream",
          "name": "stdout",
          "text": [
            "\n",
            "🧠 LLMの答え:\n",
            "### 1. **450m²、機材あり（大型）、高所作業（6m以上）、1階、日曜の場合の概算**  \n",
            "- **基本料金**: 101~500m² → **13,200円 (税込)**  \n",
            "- **機材加算**: 大型機材 → **8,800円 (税込)**  \n",
            "- **高所作業**: 6m以上 → **8,800円 (税込)**  \n",
            "- **階数加算**: 1階 → **0円**  \n",
            "- **作業日加算**: 日曜 → **3,300円 (税込)**  \n",
            "- **合計概算**: **34,100円 (税込)**  \n",
            "  (※ 追加費用や割引は考慮していません)\n",
            "\n",
            "---\n",
            "\n",
            "### 2. **より安価に作業依頼する方法**  \n",
            "- **定期契約の検討**:  \n",
            "  - 12ヶ月契約で週2回以上作業の場合、**8~10%割引**が適用されます。  \n",
            "  - 例: 年間契約で週2回作業 → **8%割引**適用可能。  \n",
            "- **作業日・時間帯の調整**:  \n",
            "  - 平日昼間作業にすることで、**日曜/夜間加算（3,300円~5,500円）を回避**できます。  \n",
            "- **機材・高所作業の最適化**:  \n",
            "  - 標準機材を使用するか、高所作業を工程から除外できるか確認します。  \n",
            "  - 例: 標準機材 → **5,500円 (税込)** に削減可能。  \n",
            "- **単発契約の回避**:  \n",
            "  - 単発契約は**11,000円 (税込)** の追加費用が発生するため、定期契約がおすすめです。  \n",
            "- **リソースの確保**:  \n",
            "  - 電源・水道を自前で用意することで、**別途費用の発生を防止**できます。  \n",
            "\n",
            "> **注意**: 現場状況や契約条件によって変動する可能性があります。詳細な見積もりは業者へ直接ご相談ください。\n"
          ]
        }
      ],
      "source": [
        "# ======================================================\n",
        "# 📝 1. LLMに渡すプロンプトを定義\n",
        "# ======================================================\n",
        "PROMPT = \"\"\"\n",
        "文書内容を見て、以下2つについて、簡単にまとめて答えてください。\n",
        "・面積（450m2）、素材あり（大型）、高所作業（6m以上）、1階、日曜の場合の概算\n",
        "・より安価に作業依頼をする方法はないか？\n",
        "\"\"\"\n",
        "\n",
        "# ======================================================\n",
        "# 🧠 2. LLMに送信するメッセージを準備\n",
        "# ======================================================\n",
        "explanation_messages = [\n",
        "    {\n",
        "        \"role\": \"system\",\n",
        "        \"content\": \"あなたは、HTML形式のドキュメント構造を理解し、ユーザーのプロンプトに従ってタスクを実行するアシスタントです。必ず日本語で答えてください。\"\n",
        "    },\n",
        "    {\n",
        "        \"role\": \"user\",\n",
        "        \"content\": f\"# ドキュメント内容(HTML):\\n{html_result}\\n\\n# プロンプト指示:\\n{PROMPT}\"\n",
        "    }\n",
        "]\n",
        "\n",
        "# ======================================================\n",
        "# ☀️ 3. Syn Pro による LLM 推論の実行\n",
        "# ======================================================\n",
        "print(\"\\n🧠 LLMの答え:\")\n",
        "result = upstage_solar_pro2(explanation_messages)\n",
        "print(result)\n"
      ]
    },
    {
      "cell_type": "markdown",
      "metadata": {
        "id": "2aEcSLYBmHPO"
      },
      "source": [
        "![step_2](https://github.com/nhandsome-new/fc_2025_upstage_handson/blob/main/docs_imgs/DP_Solar_Classification.png?raw=1)\n",
        "---\n",
        "### 🗂 3. ドキュメント分類\n",
        "- **目的**：文書の種類を自動判別  \n",
        "  - 例：請求書／領収書／契約書／見積書 など  \n",
        "- **応用例**：\n",
        "  - 文書種類ごとの自動ワークフロー振り分け\n",
        "  - 特定ドキュメント種別に応じた LLM プロンプト分岐"
      ]
    },
    {
      "cell_type": "code",
      "execution_count": 15,
      "metadata": {
        "colab": {
          "base_uri": "https://localhost:8080/"
        },
        "id": "_D5WybhEmHPP",
        "outputId": "6fa43a38-636c-4c62-e922-671ac8a78208"
      },
      "outputs": [
        {
          "metadata": {
            "tags": null
          },
          "name": "stderr",
          "output_type": "stream",
          "text": [
            "\u001b[36m\u001b[1mweave\u001b[0m: 🍩 https://wandb.ai/otani-aya-mitsui-knowledge-industryco-/UPSTAGE-HANDSON-STEP1/r/call/019a32cc-d44f-73a2-8284-ce00d6208935\n"
          ]
        },
        {
          "metadata": {
            "tags": null
          },
          "name": "stdout",
          "output_type": "stream",
          "text": [
            "\n",
            "🧠 FILE_PATH: ./demo_imgs/classification/sample_1.jpeg\n"
          ]
        },
        {
          "metadata": {
            "tags": null
          },
          "name": "stderr",
          "output_type": "stream",
          "text": [
            "\u001b[36m\u001b[1mweave\u001b[0m: 🍩 https://wandb.ai/otani-aya-mitsui-knowledge-industryco-/UPSTAGE-HANDSON-STEP1/r/call/019a32cc-f092-7a15-aae8-511fe33741f5\n",
            "\u001b[36m\u001b[1mweave\u001b[0m: 🍩 https://wandb.ai/otani-aya-mitsui-knowledge-industryco-/UPSTAGE-HANDSON-STEP1/r/call/019a32cc-fc32-73f5-90e6-5679f38be1da\n"
          ]
        },
        {
          "metadata": {
            "tags": null
          },
          "name": "stdout",
          "output_type": "stream",
          "text": [
            "- **担当部署**: 賠償・傷害対応部  \n",
            "- **その理由**: ドキュメントは「傷害保険金請求書」であり、事故による傷害（足の捻挫）とその賠償請求に関する内容が中心です。医療費の請求や入院・通院記録など医療査定に特化した情報は含まれておらず、傷害保険と賠償責任をまとめて扱う部署が適切です。  \n",
            "\n",
            "（ドキュメント内に「事故状況」「保険金支払先」「同意書」などの項目があり、傷害事案の賠償処理に焦点が当てられていることが判断材料です。）\n",
            "\n",
            "🧠 FILE_PATH: ./demo_imgs/classification/sample_2.jpeg\n"
          ]
        },
        {
          "metadata": {
            "tags": null
          },
          "name": "stderr",
          "output_type": "stream",
          "text": [
            "\u001b[36m\u001b[1mweave\u001b[0m: 🍩 https://wandb.ai/otani-aya-mitsui-knowledge-industryco-/UPSTAGE-HANDSON-STEP1/r/call/019a32cd-1d01-788e-b992-9fda6544d64f\n",
            "\u001b[36m\u001b[1mweave\u001b[0m: 🍩 https://wandb.ai/otani-aya-mitsui-knowledge-industryco-/UPSTAGE-HANDSON-STEP1/r/call/019a32cd-31f4-75fe-abdb-16fb71c14a08\n"
          ]
        },
        {
          "metadata": {
            "tags": null
          },
          "name": "stdout",
          "output_type": "stream",
          "text": [
            "- **担当部署**: 賠償・傷害対応部  \n",
            "- **理由**:  \n",
            "  - ドキュメントは「賠償責任保険金請求書」であり、事故による**第三者への損害賠償**（財物損害・人身損害）と**傷害保険**（相手方の骨折治療費等）の両方を扱っています。  \n",
            "  - 「医療査定部」は患者の医療費・入院費等に焦点を絞った部署ですが、本件は**賠償責任**と**傷害**を複合的に処理する必要があるため、「賠償・傷害対応部」に適しています。  \n",
            "  - 実務的に「賠償」と「傷害」を統合して扱うケースが多く、ドキュメント内の「相手方の損害」項目が両部門の業務範囲に跨るため、汎用性の高い部署が適切です。  \n",
            "\n",
            "### 追加説明  \n",
            "- **賠償責任**: 事故による第三者への損害（財物・人身）  \n",
            "- **傷害対応**: 相手方の骨折・治療費等の医療関連損害  \n",
            "- ドキュメントには「警察届出」「目撃者情報」など法的手続き要素も含まれ、賠償処理の幅広さが反映されています。\n",
            "\n",
            "🧠 FILE_PATH: ./demo_imgs/classification/sample_3.jpeg\n"
          ]
        },
        {
          "metadata": {
            "tags": null
          },
          "name": "stderr",
          "output_type": "stream",
          "text": [
            "\u001b[36m\u001b[1mweave\u001b[0m: 🍩 https://wandb.ai/otani-aya-mitsui-knowledge-industryco-/UPSTAGE-HANDSON-STEP1/r/call/019a32cd-5be3-767d-934a-3e877adc18df\n",
            "\u001b[36m\u001b[1mweave\u001b[0m: 🍩 https://wandb.ai/otani-aya-mitsui-knowledge-industryco-/UPSTAGE-HANDSON-STEP1/r/call/019a32cd-7255-710d-8448-7b312c6f75f6\n"
          ]
        },
        {
          "metadata": {
            "tags": null
          },
          "name": "stdout",
          "output_type": "stream",
          "text": [
            "- **担当部署**: 賠償・傷害対応部  \n",
            "- **その理由**:  \n",
            "  ドキュメントは「傷病者」の氏名・住所、受傷状態・傷病名、後遺障害見込み、通院記録、神経障害所見など、外傷・怪我に関する詳細な診断情報を含み、賠償責任や傷害保険請求に関連する項目（自賠責・労災等のチェックボックス、後遺障害評価、ADL評価など）が中心です。医療査定部は入院・通院費用の請求に特化しますが、本ドキュメントは傷害の原因・経過・後遺症まで網羅しており、**賠償・傷害対応部**の業務範囲（外傷評価、後遺障害判定、保険金査定）に合致します。  \n",
            "\n",
            "  具体例:  \n",
            "  - 「傷病名」「受傷状態」「後遺障害残存見込」→ 賠償請求の根拠  \n",
            "  - 「自賠責」「労災」チェックボックス→ 保険種別判定  \n",
            "  - 「神経障害所見」「ADL評価」→ 障害等級認定  \n",
            "\n",
            "  ※医療査定部は「入院期間」「通院日数」の算出に限定される一方、本ドキュメントは傷害の全容を扱うため、賠償・傷害対応部が適切です。\n",
            "\n",
            "🧠 FILE_PATH: ./demo_imgs/classification/sample_4.jpeg\n"
          ]
        },
        {
          "metadata": {
            "tags": null
          },
          "name": "stderr",
          "output_type": "stream",
          "text": [
            "\u001b[36m\u001b[1mweave\u001b[0m: 🍩 https://wandb.ai/otani-aya-mitsui-knowledge-industryco-/UPSTAGE-HANDSON-STEP1/r/call/019a32cd-b138-7bb8-add6-6a0485dd1b4c\n",
            "\u001b[36m\u001b[1mweave\u001b[0m: 🍩 https://wandb.ai/otani-aya-mitsui-knowledge-industryco-/UPSTAGE-HANDSON-STEP1/r/call/019a32cd-bf73-7a94-a5b1-37465450e013\n"
          ]
        },
        {
          "metadata": {
            "tags": null
          },
          "name": "stdout",
          "output_type": "stream",
          "text": [
            "- **担当部署**: 賠償・傷害対応部  \n",
            "- **その理由**:  \n",
            "  ドキュメントは「傷害保険用」の入・通院状況申告書であり、傷病名(骨折・火傷など)や手術情報、固定具の記載項目が傷害保険請求に特化しています。また、賠償責任保険との連携可能性を示唆する「チューリッヒ保険会社」という総合保険会社の名称が記載されており、傷害保険と賠償責任をまとめて扱う部署に適しています。  \n",
            "  「医療査定部」は純粋な医療費請求処理に専念する部署に向いていますが、本ドキュメントは傷害事案の賠償調整も含む広範な業務を想定しているため、「賠償・傷害対応部」が適切です。\n",
            "\n",
            "🧠 FILE_PATH: ./demo_imgs/classification/sample_5.jpeg\n"
          ]
        },
        {
          "metadata": {
            "tags": null
          },
          "name": "stderr",
          "output_type": "stream",
          "text": [
            "\u001b[36m\u001b[1mweave\u001b[0m: 🍩 https://wandb.ai/otani-aya-mitsui-knowledge-industryco-/UPSTAGE-HANDSON-STEP1/r/call/019a32ce-41be-702e-a658-158cc483de17\n"
          ]
        },
        {
          "output_type": "stream",
          "name": "stdout",
          "text": [
            "- **担当部署**: 医療査定部  \n",
            "  - **理由**:  \n",
            "    ドキュメントは「医療保険金請求書」であり、以下の内容が中心です。  \n",
            "    - **医療関連情報**: 病名告知(がん)、受診先医療機関、治療期間(通院/入院)、今後の治療予定など。医療査定部が扱う典型的な項目です。  \n",
            "    - **保険金請求**: 保険金支払先、支払事由(疾病・傷害)、個人情報同意書など。医療費請求処理に特化した内容です。  \n",
            "    - 「賠償・傷害対応部」の対象となる**賠償責任**や**第三者への請求**に関する記載は見当たりません。  \n",
            "\n",
            "    したがって、医療費査定・処理に特化した**医療査定部**が適切です。\n"
          ]
        }
      ],
      "source": [
        "# ======================================================\n",
        "# 🧾 1. 分類対象のファイルリストを定義\n",
        "# ======================================================\n",
        "RANDOM_FILES = [\n",
        "    \"./demo_imgs/classification/sample_1.jpeg\",\n",
        "    \"./demo_imgs/classification/sample_2.jpeg\",\n",
        "    \"./demo_imgs/classification/sample_3.jpeg\",\n",
        "    \"./demo_imgs/classification/sample_4.jpeg\",\n",
        "    \"./demo_imgs/classification/sample_5.jpeg\",\n",
        "]\n",
        "\n",
        "# ======================================================\n",
        "# 📝 2. LLM用プロンプトを定義\n",
        "# ------------------------------------------------------\n",
        "# - 「医療査定部」と「賠償・傷害対応部」の\n",
        "#   どちらに該当するドキュメントかを分類させる\n",
        "# - 担当部署名と簡単な理由を返すよう指示\n",
        "# ======================================================\n",
        "PROMPT = \"\"\"\n",
        "「医療査定部」と「賠償・傷害対応部」の業務のため、ドキュメントを分類してください。\n",
        "- 医療査定部：医療・入院・通院関連の請求処理に特化した標準的な名称。実務感が強い。\n",
        "- 賠償・傷害対応部：傷害保険と賠償責任をまとめて扱う場合に汎用性が高い。\n",
        "\n",
        "## 出力の例\n",
        "  - 担当部署\n",
        "  - その理由（簡単に）\n",
        "\"\"\"\n",
        "\n",
        "# ======================================================\n",
        "# 🧠 3. 各ファイルを順番に処理\n",
        "# ======================================================\n",
        "for sample_file in RANDOM_FILES:\n",
        "    print(f\"\\n🧠 FILE_PATH: {sample_file}\")\n",
        "\n",
        "    # --- 1. Document Parse（HTML化） ---\n",
        "    html_result = upstage_document_parse(sample_file)\n",
        "\n",
        "    # --- 2. LLMに渡すメッセージの準備 ---\n",
        "    explanation_messages = [\n",
        "        {\n",
        "            \"role\": \"system\",\n",
        "            \"content\": \"あなたは、HTML形式のドキュメント構造を理解し、ユーザーのプロンプトに従ってタスクを実行するアシスタントです。必ず日本語で答えてください。\"\n",
        "        },\n",
        "        {\n",
        "            \"role\": \"user\",\n",
        "            \"content\": f\"# ドキュメント内容(HTML):\\n{html_result}\\n\\n# プロンプト指示:\\n{PROMPT}\"\n",
        "        }\n",
        "    ]\n",
        "\n",
        "    # --- 3. Syn Pro による LLM分類 ---\n",
        "    result = upstage_solar_pro2(explanation_messages)\n",
        "\n",
        "    # --- 4. 分類結果の出力 ---\n",
        "    print(result)\n"
      ]
    },
    {
      "cell_type": "markdown",
      "metadata": {
        "id": "pP6p9Nn2mHPP"
      },
      "source": [
        "---\n",
        "\n",
        "# 次：Upstage_HandsOn_2\n",
        "## 実務での活用方法：保険会社 — 事故状況報告書からの情報抽出\n",
        "![](https://github.com/nhandsome-new/fc_2025_upstage_handson/blob/main/docs_imgs/Step_2.png?raw=1)"
      ]
    },
    {
      "cell_type": "markdown",
      "metadata": {
        "id": "BHdjcfJCmHPP"
      },
      "source": []
    }
  ],
  "metadata": {
    "kernelspec": {
      "display_name": "venv_fc_upstage",
      "language": "python",
      "name": "python3"
    },
    "language_info": {
      "codemirror_mode": {
        "name": "ipython",
        "version": 3
      },
      "file_extension": ".py",
      "mimetype": "text/x-python",
      "name": "python",
      "nbconvert_exporter": "python",
      "pygments_lexer": "ipython3",
      "version": "3.10.11"
    },
    "colab": {
      "provenance": []
    }
  },
  "nbformat": 4,
  "nbformat_minor": 0
}