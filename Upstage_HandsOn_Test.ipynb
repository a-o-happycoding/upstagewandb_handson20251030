{
  "cells": [
    {
      "cell_type": "markdown",
      "metadata": {
        "id": "HhPSsWIxgufI"
      },
      "source": [
        "# Upstage HandsOn Test Code\n",
        "Google Colabでの実行をおすすめします。\n",
        "\n",
        "## Google Colabの場合、下のコードを実行してください。\n",
        "- UPSTAGE_API_KEY / WANDB_API_KEYの設定が必要です。\n",
        "- [Upstage API](https://console.upstage.ai/api-keys)\n",
        "- [WANDB API](https://wandb.ai/authorize)\n",
        "\n",
        "## Github Clone＋別途環境の場合、READMEをご参考ください。\n",
        "[README](README.md)の「環境設定」が終わった後、このコードが動くかを確認する。\n"
      ]
    },
    {
      "cell_type": "code",
      "execution_count": 1,
      "metadata": {
        "colab": {
          "base_uri": "https://localhost:8080/"
        },
        "id": "dLBPRU-cgufP",
        "outputId": "c73bc4e7-1558-4bf1-9e00-d05959aca455"
      },
      "outputs": [
        {
          "output_type": "stream",
          "name": "stdout",
          "text": [
            "Collecting jedi\n",
            "  Downloading jedi-0.19.2-py2.py3-none-any.whl.metadata (22 kB)\n",
            "Requirement already satisfied: parso<0.9.0,>=0.8.4 in /usr/local/lib/python3.12/dist-packages (from jedi) (0.8.5)\n",
            "Downloading jedi-0.19.2-py2.py3-none-any.whl (1.6 MB)\n",
            "\u001b[2K   \u001b[90m━━━━━━━━━━━━━━━━━━━━━━━━━━━━━━━━━━━━━━━━\u001b[0m \u001b[32m1.6/1.6 MB\u001b[0m \u001b[31m15.8 MB/s\u001b[0m eta \u001b[36m0:00:00\u001b[0m\n",
            "\u001b[?25hInstalling collected packages: jedi\n",
            "Successfully installed jedi-0.19.2\n",
            "📦 weave をインストール中...\n",
            "🔐 Upstage APIキーを設定しました\n",
            "🔐 WANDB APIキーを設定しました\n",
            "✅ 既にフォルダが存在するため、ダウンロードと解凍はスキップします。\n",
            "📂 展開結果の確認: /content/demo_imgs\n",
            "total 12\n",
            "drwxr-xr-x 2 root root 4096 Oct 13 13:12 check\n",
            "drwxr-xr-x 2 root root 4096 Oct 12 04:58 classification\n",
            "drwxr-xr-x 2 root root 4096 Oct 15 11:35 information_extraction\n"
          ]
        }
      ],
      "source": [
        "import os\n",
        "\n",
        "!pip install jedi\n",
        "\n",
        "# ===============================\n",
        "# 🧪 weaveのインストール\n",
        "# ===============================\n",
        "print(\"📦 weave をインストール中...\")\n",
        "!pip install -q weave==0.52.9\n",
        "\n",
        "# ===============================\n",
        "# 🔑 APIキーの設定\n",
        "# ===============================\n",
        "# https://console.upstage.ai/api-keys\n",
        "#os.environ[\"UPSTAGE_API_KEY\"] = \"YOUR_API_KEY\"\n",
        "os.environ[\"UPSTAGE_API_KEY\"] = \"up_rdnlsZvQe2G5Mu5H1X1WQPAYTrAua\"\n",
        "print(\"🔐 Upstage APIキーを設定しました\")\n",
        "\n",
        "# https://wandb.ai/authorize (https://docs.wandb.ai/ja/support/find_api_key/ に解説があります)\n",
        "#os.environ[\"WANDB_API_KEY\"] = \"YOUR_API_KEY\"\n",
        "os.environ[\"WANDB_API_KEY\"] = \"fcac63bbfd221097efa0571a8d9d33d805a28437\"\n",
        "print(\"🔐 WANDB APIキーを設定しました\")\n",
        "\n",
        "# ===============================\n",
        "# 📁 パス設定\n",
        "# ===============================\n",
        "ZIP_URL = \"https://github.com/nhandsome-new/fc_2025_upstage_handson/raw/main/prep_google_colab/demo_imgs.zip\"\n",
        "ZIP_FILE = \"demo_imgs.zip\"\n",
        "EXTRACT_DIR = \"/content/demo_imgs\"\n",
        "\n",
        "# ===============================\n",
        "# 📂 フォルダがあるかチェック\n",
        "# ===============================\n",
        "if not os.path.exists(EXTRACT_DIR):\n",
        "    print(\"📂 フォルダが存在しません。初回セットアップを開始します...\")\n",
        "\n",
        "    # 🧭 1) 既存のフォルダ・ZIPファイルを削除（存在しなくてもOK）\n",
        "    print(\"🧭 既存のフォルダ・ZIPファイルを削除中...\")\n",
        "    !rm -rf {EXTRACT_DIR} || true\n",
        "    !rm -f {ZIP_FILE} || true\n",
        "\n",
        "    # ⬇️ 2) wgetでZIPファイルをダウンロード\n",
        "    print(f\"⬇️ ZIPファイルをダウンロード中: {ZIP_URL}\")\n",
        "    !wget -q -O {ZIP_FILE} {ZIP_URL}\n",
        "    print(\"✅ ダウンロード完了\")\n",
        "\n",
        "    # 📦 3) ZIPファイルを解凍\n",
        "    print(\"📦 ZIPファイルを解凍中...\")\n",
        "    !unzip -q {ZIP_FILE} -d .\n",
        "    print(\"✅ 解凍完了\")\n",
        "\n",
        "    # 🧼 4) ZIPファイルを削除\n",
        "    print(\"🧼 ZIPファイルを削除中...\")\n",
        "    !rm {ZIP_FILE}\n",
        "    print(\"✅ ZIPファイル削除完了\")\n",
        "\n",
        "else:\n",
        "    print(\"✅ 既にフォルダが存在するため、ダウンロードと解凍はスキップします。\")\n",
        "\n",
        "# ===============================\n",
        "# 📂 展開結果の確認\n",
        "# ===============================\n",
        "print(f\"📂 展開結果の確認: {EXTRACT_DIR}\")\n",
        "!ls -l {EXTRACT_DIR}\n"
      ]
    },
    {
      "cell_type": "markdown",
      "metadata": {
        "id": "bQ2Jf_VpgufT"
      },
      "source": [
        "\n",
        "## 結果\n",
        "### pip install check\n",
        "```\n",
        "✅ weave\n",
        "```\n",
        "\n",
        "---\n",
        "\n",
        "### Upstage\n",
        "```\n",
        "✅ UPSTAGE_API_KEY が設定されています: up_c****\n",
        "✅ LLM応答: Hello! It's nice to meet you. How can I assist you today? 😊  \n",
        "\n",
        "(If you're just testing or saying \"Hello World\" as a greeting, feel free to ask me anything or let me know if you'd like help with something specific!)  \n",
        "\n",
        "Examples of what I can do:  \n",
        "- Answer questions  \n",
        "- Explain concepts  \n",
        "- Help with coding  \n",
        "- Offer creative ideas  \n",
        "- Provide learning resources  \n",
        "- And more!  \n",
        "\n",
        "Just let me know!\n",
        "```\n",
        "\n",
        "---\n",
        "\n",
        "### Weight and Bias\n",
        "```\n",
        "weave: Please login to Weights & Biases (https://wandb.ai) to continue...\n",
        "/usr/local/lib/python3.12/dist-packages/notebook/notebookapp.py:191: SyntaxWarning: invalid escape sequence '\\/'\n",
        "  | |_| | '_ \\/ _` / _` |  _/ -_)\n",
        "wandb: Logging into wandb.ai. (Learn how to deploy a W&B server locally: https://wandb.me/wandb-server)\n",
        "wandb: You can find your API key in your browser here: https://wandb.ai/authorize?ref=weave\n",
        "wandb: Paste an API key from your profile and hit enter:\n",
        "```\n",
        "- 上記リンク（https://wandb.ai/authorize?ref=weave）にアクセスし、API KEYコピー\n",
        "- API KEYを入力\n",
        "\n",
        "```\n",
        "wandb: WARNING If you're specifying your api key in code, ensure this code is not shared publicly.\n",
        "wandb: WARNING Consider setting the WANDB_API_KEY environment variable, or running `wandb login` from the command line.\n",
        "wandb: No netrc file found, creating one.\n",
        "wandb: Appending key for api.wandb.ai to your netrc file: /root/.netrc\n",
        "wandb: Currently logged in as: nhandsome to https://api.wandb.ai. Use `wandb login --relogin` to force relogin\n",
        "weave: weave version 0.52.10 is available!  To upgrade, please run:\n",
        "weave:  $ pip install weave --upgrade\n",
        "weave: Logged in as Weights & Biases user: nhandsome.\n",
        "weave: View Weave data at https://wandb.ai/nhandsome/test-project/weave\n",
        "✅ Weave機能: テスト完了: Hello Weave\n",
        "\n",
        "```\n",
        "---"
      ]
    },
    {
      "cell_type": "code",
      "execution_count": 2,
      "metadata": {
        "colab": {
          "base_uri": "https://localhost:8080/"
        },
        "id": "PsnNAbCBgufU",
        "outputId": "b9dfde22-770f-4e9f-8cfd-e9e3fe8439ac"
      },
      "outputs": [
        {
          "output_type": "stream",
          "name": "stdout",
          "text": [
            "✅ weave\n"
          ]
        }
      ],
      "source": [
        "# pip install check\n",
        "try:\n",
        "    import weave\n",
        "    print(\"✅ weave\")\n",
        "except ImportError:\n",
        "    print(\"❌ weave\")\n",
        "    print(\"pip install weave\")"
      ]
    },
    {
      "cell_type": "code",
      "execution_count": 3,
      "metadata": {
        "colab": {
          "base_uri": "https://localhost:8080/"
        },
        "id": "-yaDOJ4tgufU",
        "outputId": "2a1281f8-08b3-4d01-e03c-b1be7dfe68f2"
      },
      "outputs": [
        {
          "output_type": "stream",
          "name": "stdout",
          "text": [
            "✅ UPSTAGE_API_KEY が設定されています: up_r****\n",
            "✅ LLM応答: こんにちは！「Hello World」はプログラミングの伝統的な最初のステップですね。  \n",
            "日本語で「こんにちは、世界！」と表記します。  \n",
            "\n",
            "何か特定のプログラミング言語やトピックについてお手伝いできることはありますか？  \n",
            "（例: Pythonで「Hello World」を表示する方法、日本語処理の基礎、など）  \n",
            "\n",
            "お気軽にお尋ねください！ 😊\n"
          ]
        }
      ],
      "source": [
        "# Upstage API(LLM Hello World)確認\n",
        "import os\n",
        "import requests\n",
        "\n",
        "# ======================================================\n",
        "# APIキーの設定\n",
        "# https://console.upstage.ai/api-keys\n",
        "# ======================================================\n",
        "# os.environ[\"UPSTAGE_API_KEY\"] = 'YOUR_API_KEY' # ← 実際のキーをここに入れる\n",
        "\n",
        "api_key = os.environ.get(\"UPSTAGE_API_KEY\")\n",
        "if not api_key:\n",
        "    raise ValueError(\"❌ UPSTAGE_API_KEY が環境変数に設定されていません。\")\n",
        "else:\n",
        "    print(f\"✅ UPSTAGE_API_KEY が設定されています: {api_key[:4]}****\")\n",
        "\n",
        "messages = [{\"role\": \"user\", \"content\": \"Hello World\"}]\n",
        "payload = {\"model\": \"syn-pro\", \"messages\": messages, \"temperature\": 0.1, \"max_tokens\": 100}\n",
        "\n",
        "response = requests.post(\n",
        "    \"https://api.upstage.ai/v1/chat/completions\",\n",
        "    headers={\"Authorization\": f\"Bearer {api_key}\", \"Content-Type\": \"application/json\"},\n",
        "    json=payload\n",
        ")\n",
        "\n",
        "result = response.json()\n",
        "print(f\"✅ LLM応答: {result['choices'][0]['message']['content']}\")"
      ]
    },
    {
      "cell_type": "code",
      "execution_count": 4,
      "metadata": {
        "colab": {
          "base_uri": "https://localhost:8080/"
        },
        "id": "OJrHpm6KgufV",
        "outputId": "702e21ef-89dc-431a-9e33-453405aee4d7"
      },
      "outputs": [
        {
          "output_type": "stream",
          "name": "stderr",
          "text": [
            "\u001b[36m\u001b[1mweave\u001b[0m: wandb version 0.22.3 is available!  To upgrade, please run:\n",
            "\u001b[36m\u001b[1mweave\u001b[0m:  $ pip install wandb --upgrade\n",
            "\u001b[36m\u001b[1mweave\u001b[0m: weave version 0.52.11 is available!  To upgrade, please run:\n",
            "\u001b[36m\u001b[1mweave\u001b[0m:  $ pip install weave --upgrade\n",
            "\u001b[36m\u001b[1mweave\u001b[0m: Logged in as Weights & Biases user: otani-aya.\n",
            "\u001b[36m\u001b[1mweave\u001b[0m: View Weave data at https://wandb.ai/otani-aya-mitsui-knowledge-industryco-/test-project/weave\n"
          ]
        },
        {
          "output_type": "stream",
          "name": "stdout",
          "text": [
            "✅ Weave機能: テスト完了: Hello Weave\n"
          ]
        }
      ],
      "source": [
        "# Weaveアクセス確認\n",
        "weave.init(\"test-project\")\n",
        "\n",
        "@weave.op\n",
        "def test_function(text: str) -> str:\n",
        "    return f\"テスト完了: {text}\"\n",
        "\n",
        "result = test_function(\"Hello Weave\")\n",
        "print(f\"✅ Weave機能: {result}\")"
      ]
    },
    {
      "cell_type": "code",
      "execution_count": null,
      "metadata": {
        "id": "xYO5pGZ3gufV"
      },
      "outputs": [],
      "source": []
    }
  ],
  "metadata": {
    "kernelspec": {
      "display_name": "venv_fc_upstage",
      "language": "python",
      "name": "python3"
    },
    "language_info": {
      "codemirror_mode": {
        "name": "ipython",
        "version": 3
      },
      "file_extension": ".py",
      "mimetype": "text/x-python",
      "name": "python",
      "nbconvert_exporter": "python",
      "pygments_lexer": "ipython3",
      "version": "3.10.11"
    },
    "colab": {
      "provenance": []
    }
  },
  "nbformat": 4,
  "nbformat_minor": 0
}